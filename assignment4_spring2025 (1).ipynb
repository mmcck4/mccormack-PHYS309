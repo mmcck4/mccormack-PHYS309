{
  "cells": [
    {
      "cell_type": "markdown",
      "id": "33885243",
      "metadata": {
        "id": "33885243"
      },
      "source": [
        "# Bohr models of ions\n",
        "\n",
        "The Bohr model works for atoms with only one electron. Adding electrons would require accounting for their mutual Coulomb forces, which would depend on the electrons' locations in their orbits. However, there are ions that have only one electron, for which a small modification to the Bohr model can predict their energy levels.\n",
        "\n",
        "Read the notebook <tt>Bohr_model_extensions.ipynb</tt>, which is on the class GitHub page. You will be using Equation 1 to compare the photon energy that correspond to energy level transitions in hydrogen, singly-ionized helium, and doubly-ionized lithium.\n",
        "\n",
        "Note: you are responsible for importing the packages you need and making sure your axis labels are large enough to be readable.\n",
        "\n",
        "<ol>\n",
        "    <li>Write a function that finds the photon <em>energy</em> in eV (calculate it from the wavelength predicted by the Rydberg equation) that moves an electron between levels $n$ and $n+1$. The independent variables of your function should be $Z$ (atomic number) and $n$. Do not hand-code any constants: use the pre-programmed values in <tt>scipy</tt>.</li>\n",
        "</ol>"
      ]
    },
    {
      "cell_type": "code",
      "source": [
        "import numpy as np\n",
        "import matplotlib.pyplot as plt\n",
        "from scipy import constants\n",
        "import array\n",
        "c = constants.c\n",
        "h = constants.h\n",
        "r = constants.Rydberg\n",
        "ev = constants.electron_volt\n",
        "\n",
        "\n",
        "plt.rcParams[\"font.family\"] = \"DejaVu Sans\""
      ],
      "metadata": {
        "id": "PdtEe2eT1mQy"
      },
      "id": "PdtEe2eT1mQy",
      "execution_count": 1,
      "outputs": []
    },
    {
      "cell_type": "code",
      "execution_count": 2,
      "id": "d9969682",
      "metadata": {
        "id": "d9969682"
      },
      "outputs": [],
      "source": [
        "# Your code here\n",
        "def photon_energy(Z, n):\n",
        "    inverse_lambda = Z**2*r*((1/n**2)-(1/(n+1)**2))\n",
        "\n",
        "    joules =  h*c*inverse_lambda\n",
        "    return (joules/ev)\n",
        "\n",
        "\n"
      ]
    },
    {
      "cell_type": "markdown",
      "id": "3eb29aa5",
      "metadata": {
        "id": "3eb29aa5"
      },
      "source": [
        "<ol start = 2>\n",
        "    <li>Use the python function of your choice to create an integer <em>array</em> (not list) of values $n = 1, 2, \\ldots, 10$. Do not simply hard-code in all the numbers by hand. Create a second array (not list) of atomic numbers $Z = 1, 2, 3$, again using a python function.</li>\n",
        "</ol>"
      ]
    },
    {
      "cell_type": "code",
      "execution_count": 3,
      "id": "105af0f4",
      "metadata": {
        "colab": {
          "base_uri": "https://localhost:8080/"
        },
        "id": "105af0f4",
        "outputId": "9f46ca14-a065-4c76-cf9d-0d34d9589f65"
      },
      "outputs": [
        {
          "output_type": "stream",
          "name": "stdout",
          "text": [
            "[1, 2, 3, 4, 5, 6, 7, 8, 9, 10]\n",
            "[1, 2, 3]\n"
          ]
        }
      ],
      "source": [
        "# Your code here\n",
        "\n",
        "def populate_array(squares):\n",
        "   return [i+1 for i in range(squares )]\n",
        "\n",
        "print(populate_array(10))\n",
        "print(populate_array(3))\n",
        "n_array = populate_array(10)\n",
        "Z_array = populate_array(3)\n",
        "\n"
      ]
    },
    {
      "cell_type": "markdown",
      "id": "fdc267f4",
      "metadata": {
        "id": "fdc267f4"
      },
      "source": [
        "\n",
        "<ol start=3>\n",
        "    <li>For each combination of $Z$ and $n$, calculate the energy of light required to move from level $n$ to $n+1$. Store the results in an array with 3 rows and 10 columns. You may find the meshgrid command helpful.</li>\n",
        "</ol>"
      ]
    },
    {
      "cell_type": "code",
      "execution_count": 4,
      "id": "fb38e7e0",
      "metadata": {
        "colab": {
          "base_uri": "https://localhost:8080/"
        },
        "id": "fb38e7e0",
        "outputId": "0f79e66b-4097-4693-c7c9-d79d789d60fb"
      },
      "outputs": [
        {
          "output_type": "stream",
          "name": "stdout",
          "text": [
            "[[1.02042698e+01 4.08170794e+01 9.18384286e+01]\n",
            " [1.88967960e+00 7.55871840e+00 1.70071164e+01]\n",
            " [6.61387860e-01 2.64555144e+00 5.95249074e+00]\n",
            " [3.06128095e-01 1.22451238e+00 2.75515286e+00]\n",
            " [1.66291805e-01 6.65167219e-01 1.49662624e+00]\n",
            " [1.00268713e-01 4.01074854e-01 9.02418421e-01]\n",
            " [6.50782515e-02 2.60313006e-01 5.85704264e-01]\n",
            " [4.46174350e-02 1.78469740e-01 4.01556915e-01]\n",
            " [3.19145888e-02 1.27658355e-01 2.87231299e-01]\n",
            " [2.36131864e-02 9.44527456e-02 2.12518678e-01]]\n"
          ]
        }
      ],
      "source": [
        "Zv, nv = np.meshgrid(Z_array, n_array)\n",
        "energy_grid = photon_energy(Zv, nv)\n",
        "print(energy_grid)"
      ]
    },
    {
      "cell_type": "markdown",
      "id": "4ce0665f",
      "metadata": {
        "id": "4ce0665f"
      },
      "source": [
        "<ol start=4>\n",
        "    <li>Now you are going to make a color-coded plot. With $n$ on the x-axis and $z$ on the y-axis, add a circle to your plot at each $(n,z)$ ordered pair with the color determined by the energy calculated in question 3. Make sure your plot has a colorbar to show the energy scale, and put units on the colorbar. x and y axes should also be labeled.</li>\n",
        "</ol>\n",
        "\n",
        "I am including an example plot showing arbitrary dependent variable $w$ on a color scale as a function of independent variables $u$ and $v$. None of these variables mean anything; this example is just to help you visualize what your plot should look like."
      ]
    },
    {
      "cell_type": "code",
      "execution_count": 12,
      "id": "4585afc3",
      "metadata": {
        "colab": {
          "base_uri": "https://localhost:8080/",
          "height": 305
        },
        "id": "4585afc3",
        "outputId": "c6aeb2cd-8c9b-44b8-fec4-83b401d748ea"
      },
      "outputs": [
        {
          "output_type": "error",
          "ename": "FileNotFoundError",
          "evalue": "[Errno 2] No such file or directory: 'color_coded_scatter_example.png'",
          "traceback": [
            "\u001b[0;31m---------------------------------------------------------------------------\u001b[0m",
            "\u001b[0;31mFileNotFoundError\u001b[0m                         Traceback (most recent call last)",
            "\u001b[0;32m<ipython-input-12-9ae941b53cd4>\u001b[0m in \u001b[0;36m<cell line: 0>\u001b[0;34m()\u001b[0m\n\u001b[1;32m      1\u001b[0m \u001b[0;32mfrom\u001b[0m \u001b[0mPIL\u001b[0m \u001b[0;32mimport\u001b[0m \u001b[0mImage\u001b[0m\u001b[0;34m\u001b[0m\u001b[0;34m\u001b[0m\u001b[0m\n\u001b[0;32m----> 2\u001b[0;31m \u001b[0msample\u001b[0m \u001b[0;34m=\u001b[0m \u001b[0mImage\u001b[0m\u001b[0;34m.\u001b[0m\u001b[0mopen\u001b[0m\u001b[0;34m(\u001b[0m\u001b[0;34m\"color_coded_scatter_example.png\"\u001b[0m\u001b[0;34m)\u001b[0m\u001b[0;34m\u001b[0m\u001b[0;34m\u001b[0m\u001b[0m\n\u001b[0m\u001b[1;32m      3\u001b[0m \u001b[0mdisplay\u001b[0m\u001b[0;34m(\u001b[0m\u001b[0msample\u001b[0m\u001b[0;34m)\u001b[0m\u001b[0;34m\u001b[0m\u001b[0;34m\u001b[0m\u001b[0m\n",
            "\u001b[0;32m/usr/local/lib/python3.11/dist-packages/PIL/Image.py\u001b[0m in \u001b[0;36mopen\u001b[0;34m(fp, mode, formats)\u001b[0m\n\u001b[1;32m   3463\u001b[0m \u001b[0;34m\u001b[0m\u001b[0m\n\u001b[1;32m   3464\u001b[0m     \u001b[0;32mif\u001b[0m \u001b[0mfilename\u001b[0m\u001b[0;34m:\u001b[0m\u001b[0;34m\u001b[0m\u001b[0;34m\u001b[0m\u001b[0m\n\u001b[0;32m-> 3465\u001b[0;31m         \u001b[0mfp\u001b[0m \u001b[0;34m=\u001b[0m \u001b[0mbuiltins\u001b[0m\u001b[0;34m.\u001b[0m\u001b[0mopen\u001b[0m\u001b[0;34m(\u001b[0m\u001b[0mfilename\u001b[0m\u001b[0;34m,\u001b[0m \u001b[0;34m\"rb\"\u001b[0m\u001b[0;34m)\u001b[0m\u001b[0;34m\u001b[0m\u001b[0;34m\u001b[0m\u001b[0m\n\u001b[0m\u001b[1;32m   3466\u001b[0m         \u001b[0mexclusive_fp\u001b[0m \u001b[0;34m=\u001b[0m \u001b[0;32mTrue\u001b[0m\u001b[0;34m\u001b[0m\u001b[0;34m\u001b[0m\u001b[0m\n\u001b[1;32m   3467\u001b[0m     \u001b[0;32melse\u001b[0m\u001b[0;34m:\u001b[0m\u001b[0;34m\u001b[0m\u001b[0;34m\u001b[0m\u001b[0m\n",
            "\u001b[0;31mFileNotFoundError\u001b[0m: [Errno 2] No such file or directory: 'color_coded_scatter_example.png'"
          ]
        }
      ],
      "source": [
        "from PIL import Image\n",
        "sample = Image.open(\"color_coded_scatter_example.png\")\n",
        "display(sample)"
      ]
    },
    {
      "cell_type": "markdown",
      "id": "ecf1d35d",
      "metadata": {
        "id": "ecf1d35d"
      },
      "source": [
        "Code that might help you make your plot is in the cell below. You are free to do something else if you prefer."
      ]
    },
    {
      "cell_type": "code",
      "execution_count": 5,
      "id": "d4c9baa3",
      "metadata": {
        "colab": {
          "base_uri": "https://localhost:8080/",
          "height": 234
        },
        "id": "d4c9baa3",
        "outputId": "b053d87e-e96a-4542-d433-8ea64ad7af11"
      },
      "outputs": [
        {
          "output_type": "stream",
          "name": "stdout",
          "text": [
            "['magma', 'inferno', 'plasma', 'viridis', 'cividis', 'twilight', 'twilight_shifted', 'turbo', 'berlin', 'managua', 'vanimo', 'Blues', 'BrBG', 'BuGn', 'BuPu', 'CMRmap', 'GnBu', 'Greens', 'Greys', 'OrRd', 'Oranges', 'PRGn', 'PiYG', 'PuBu', 'PuBuGn', 'PuOr', 'PuRd', 'Purples', 'RdBu', 'RdGy', 'RdPu', 'RdYlBu', 'RdYlGn', 'Reds', 'Spectral', 'Wistia', 'YlGn', 'YlGnBu', 'YlOrBr', 'YlOrRd', 'afmhot', 'autumn', 'binary', 'bone', 'brg', 'bwr', 'cool', 'coolwarm', 'copper', 'cubehelix', 'flag', 'gist_earth', 'gist_gray', 'gist_heat', 'gist_ncar', 'gist_rainbow', 'gist_stern', 'gist_yarg', 'gnuplot', 'gnuplot2', 'gray', 'hot', 'hsv', 'jet', 'nipy_spectral', 'ocean', 'pink', 'prism', 'rainbow', 'seismic', 'spring', 'summer', 'terrain', 'winter', 'Accent', 'Dark2', 'Paired', 'Pastel1', 'Pastel2', 'Set1', 'Set2', 'Set3', 'tab10', 'tab20', 'tab20b', 'tab20c', 'grey', 'gist_grey', 'gist_yerg', 'Grays', 'magma_r', 'inferno_r', 'plasma_r', 'viridis_r', 'cividis_r', 'twilight_r', 'twilight_shifted_r', 'turbo_r', 'berlin_r', 'managua_r', 'vanimo_r', 'Blues_r', 'BrBG_r', 'BuGn_r', 'BuPu_r', 'CMRmap_r', 'GnBu_r', 'Greens_r', 'Greys_r', 'OrRd_r', 'Oranges_r', 'PRGn_r', 'PiYG_r', 'PuBu_r', 'PuBuGn_r', 'PuOr_r', 'PuRd_r', 'Purples_r', 'RdBu_r', 'RdGy_r', 'RdPu_r', 'RdYlBu_r', 'RdYlGn_r', 'Reds_r', 'Spectral_r', 'Wistia_r', 'YlGn_r', 'YlGnBu_r', 'YlOrBr_r', 'YlOrRd_r', 'afmhot_r', 'autumn_r', 'binary_r', 'bone_r', 'brg_r', 'bwr_r', 'cool_r', 'coolwarm_r', 'copper_r', 'cubehelix_r', 'flag_r', 'gist_earth_r', 'gist_gray_r', 'gist_heat_r', 'gist_ncar_r', 'gist_rainbow_r', 'gist_stern_r', 'gist_yarg_r', 'gnuplot_r', 'gnuplot2_r', 'gray_r', 'hot_r', 'hsv_r', 'jet_r', 'nipy_spectral_r', 'ocean_r', 'pink_r', 'prism_r', 'rainbow_r', 'seismic_r', 'spring_r', 'summer_r', 'terrain_r', 'winter_r', 'Accent_r', 'Dark2_r', 'Paired_r', 'Pastel1_r', 'Pastel2_r', 'Set1_r', 'Set2_r', 'Set3_r', 'tab10_r', 'tab20_r', 'tab20b_r', 'tab20c_r', 'grey_r', 'gist_grey_r', 'gist_yerg_r', 'Grays_r']\n"
          ]
        },
        {
          "output_type": "display_data",
          "data": {
            "text/plain": [
              "<Figure size 600x600 with 2 Axes>"
            ],
            "image/png": "[encoded data removed]"
          },
          "metadata": {}
        }
      ],
      "source": [
        "from mpl_toolkits.axes_grid1 import make_axes_locatable\n",
        "from matplotlib import colormaps\n",
        "print(list(colormaps))\n",
        "fig, ax = plt.subplots(1, 1, figsize=(6, 6))\n",
        "\n",
        "\n",
        "plot1 = ax.scatter(nv, Zv, c=energy_grid, cmap='brg', s=50, edgecolor='black')\n",
        "\n",
        "\n",
        "ax.set_aspect('equal')\n",
        "\n",
        "\n",
        "ax.set_xlabel('Energy Level n')\n",
        "ax.set_ylabel('Atomic Number Z')\n",
        "ax.set_title('Photon Energy for Transitions n → n+1')\n",
        "\n",
        "# Create a colorbar axis on the right side of ax. The width of cax will be 8%\n",
        "# of ax and the padding between cax and ax will be fixed at 0.1 inch.\n",
        "divider = make_axes_locatable(ax)\n",
        "cax = divider.append_axes(\"right\", size=\"8%\", pad=0.1)\n",
        "cbar = plt.colorbar(plot1, cax=cax)\n",
        "cbar.ax.tick_params(labelsize=12)\n",
        "cbar.set_label('Photon Energy (eV)')\n",
        "\n",
        "plt.show()"
      ]
    }
  ],
  "metadata": {
    "kernelspec": {
      "display_name": "Python 3",
      "language": "python",
      "name": "python3"
    },
    "language_info": {
      "codemirror_mode": {
        "name": "ipython",
        "version": 3
      },
      "file_extension": ".py",
      "mimetype": "text/x-python",
      "name": "python",
      "nbconvert_exporter": "python",
      "pygments_lexer": "ipython3",
      "version": "3.8.8"
    },
    "colab": {
      "provenance": []
    }
  },
  "nbformat": 4,
  "nbformat_minor": 5
}